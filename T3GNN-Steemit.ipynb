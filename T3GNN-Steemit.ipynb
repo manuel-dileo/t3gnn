{
 "cells": [
  {
   "cell_type": "markdown",
   "id": "f76e04ce",
   "metadata": {},
   "source": [
    "# IMPORT"
   ]
  },
  {
   "cell_type": "code",
   "execution_count": null,
   "id": "a05d94c0",
   "metadata": {},
   "outputs": [],
   "source": [
    "import torch\n",
    "import torch.nn.functional as F\n",
    "from torch.nn import BCEWithLogitsLoss, GRUCell\n",
    "from torch_geometric.data import Data\n",
    "from sklearn.metrics import roc_auc_score,average_precision_score\n",
    "\n",
    "import random\n",
    "\n",
    "import bisect \n",
    "\n",
    "import gc\n",
    "import copy\n",
    "\n",
    "from itertools import permutations\n",
    "\n",
    "import pandas as pd\n",
    "\n",
    "from torch_geometric.utils import negative_sampling, erdos_renyi_graph, shuffle_node, to_networkx\n",
    "import torch_geometric.transforms as T\n",
    "from torch_geometric.utils import train_test_split_edges\n",
    "from torch_geometric.transforms import RandomLinkSplit,NormalizeFeatures,Constant,OneHotDegree\n",
    "from torch_geometric.utils import from_networkx\n",
    "from torch_geometric.nn import GCNConv,SAGEConv,GATv2Conv, GINConv, Linear\n",
    "from scipy.stats import entropy\n",
    "\n",
    "import torch\n",
    "import networkx as nx\n",
    "import matplotlib.pyplot as plt\n",
    "import numpy as np\n",
    "\n",
    "import copy\n",
    "import itertools\n",
    "import json"
   ]
  },
  {
   "cell_type": "code",
   "execution_count": null,
   "id": "315305df",
   "metadata": {},
   "outputs": [],
   "source": [
    "%load_ext autoreload\n",
    "%autoreload 2"
   ]
  },
  {
   "cell_type": "markdown",
   "id": "cbb8b40a",
   "metadata": {},
   "source": [
    "# LOAD DATASET"
   ]
  },
  {
   "cell_type": "code",
   "execution_count": null,
   "id": "041d8f84",
   "metadata": {},
   "outputs": [],
   "source": [
    "from steemitdata import get_steemit_dataset"
   ]
  },
  {
   "cell_type": "code",
   "execution_count": null,
   "id": "502cf464",
   "metadata": {},
   "outputs": [],
   "source": [
    "#Snapshots with constant encoder as node features\n",
    "#Snapshots with textual features as node features\n",
    "\n",
    "snapshots_c = get_steemit_dataset(preprocess='constant')\n",
    "snapshots_t = get_steemit_dataset(preprocess='text')"
   ]
  },
  {
   "cell_type": "code",
   "execution_count": null,
   "id": "0ce4c156",
   "metadata": {},
   "outputs": [],
   "source": [
    "for i in range(len(snapshots_t)):\n",
    "    torch.save(snapshots_t[i].x, f'steemit-t3gnn-data/{i}_x.pt')\n",
    "    torch.save(snapshots_t[i].edge_index, f'steemit-t3gnn-data/{i}_edge_index.pt')"
   ]
  },
  {
   "cell_type": "code",
   "execution_count": null,
   "id": "db20fb46",
   "metadata": {},
   "outputs": [],
   "source": [
    "#Snapshots with random features as node features\n",
    "snapshots_ts = get_steemit_dataset(preprocess='constant')\n",
    "for snap in snapshots_ts:\n",
    "    snap.x = torch.randn(snap.num_nodes, 384)"
   ]
  },
  {
   "cell_type": "markdown",
   "id": "ff34ed04",
   "metadata": {},
   "source": [
    "# LOAD MODEL"
   ]
  },
  {
   "cell_type": "code",
   "execution_count": null,
   "id": "9262266e",
   "metadata": {},
   "outputs": [],
   "source": [
    "from t3gnn import T3GConvGRU, T3EvolveGCNH, T3EvolveGCNO, T3GNN, T3MLP\n",
    "from traineval import *"
   ]
  },
  {
   "cell_type": "markdown",
   "id": "3fd84cad",
   "metadata": {},
   "source": [
    "## Experiments"
   ]
  },
  {
   "cell_type": "code",
   "execution_count": null,
   "id": "6ecb0dc9",
   "metadata": {},
   "outputs": [],
   "source": [
    "import random\n",
    "device = torch.device('cuda')\n",
    "torch.manual_seed(41)\n",
    "torch.cuda.manual_seed_all(41)\n",
    "np.random.seed(41)\n",
    "random.seed(41)\n",
    "torch.backends.cudnn.benchmark = False\n",
    "torch.backends.cudnn.deterministic = True\n",
    "torch.cuda.empty_cache()"
   ]
  },
  {
   "cell_type": "code",
   "execution_count": null,
   "id": "18f8006a",
   "metadata": {},
   "outputs": [],
   "source": [
    "hidden_conv1 = 64\n",
    "hidden_conv2 = 32"
   ]
  },
  {
   "cell_type": "markdown",
   "id": "8b315df9",
   "metadata": {},
   "source": [
    "## Train on the link prediction task using sentence embedding and network structure"
   ]
  },
  {
   "cell_type": "markdown",
   "id": "9144b4eb",
   "metadata": {},
   "source": [
    "### Self-loops"
   ]
  },
  {
   "cell_type": "code",
   "execution_count": null,
   "id": "08051a4f",
   "metadata": {},
   "outputs": [],
   "source": [
    "ro_selfloops_avgpr = train_roland(snapshots_t, hidden_conv1, hidden_conv2, update='mlp', add_self_loops=True)"
   ]
  },
  {
   "cell_type": "markdown",
   "id": "818ec89f",
   "metadata": {},
   "source": [
    "### Baselines"
   ]
  },
  {
   "cell_type": "code",
   "execution_count": null,
   "id": "587de38c",
   "metadata": {},
   "outputs": [],
   "source": [
    "ro_avgpr, gcgru_avgpr, evo_avgpr, evh_avgpr = train_models(snapshots_t, hidden_conv1, hidden_conv2, update='mlp')"
   ]
  },
  {
   "cell_type": "markdown",
   "id": "a69ab178",
   "metadata": {},
   "source": [
    "### Random Sampling"
   ]
  },
  {
   "cell_type": "code",
   "execution_count": null,
   "id": "5de2a94a",
   "metadata": {},
   "outputs": [],
   "source": [
    "ro_randomsample_avgpr = train_roland_random(snapshots_t, hidden_conv1, hidden_conv2, update='mlp') #random-negative-sampling"
   ]
  },
  {
   "cell_type": "markdown",
   "id": "c170fd87",
   "metadata": {},
   "source": [
    "### No Self loops, Skip Connections, Content MLP"
   ]
  },
  {
   "cell_type": "code",
   "execution_count": null,
   "id": "35a81d63",
   "metadata": {},
   "outputs": [],
   "source": [
    "ro_selfloops_avgpr = train_roland(snapshots_t, hidden_conv1, hidden_conv2, update='mlp', add_self_loops=True)"
   ]
  },
  {
   "cell_type": "code",
   "execution_count": null,
   "id": "1514372b",
   "metadata": {},
   "outputs": [],
   "source": [
    "ro_skip_avgpr = train_roland(snapshots_t, hidden_conv1, hidden_conv2, update='mlp', skip_connections=True)\n",
    "ro_content_avgpr = train_roland(snapshots_t, hidden_conv1, hidden_conv2, update='mlp', content_mlp=True)"
   ]
  },
  {
   "cell_type": "markdown",
   "id": "84f1d119",
   "metadata": {},
   "source": [
    "### Feature shuffling, T3MLP, EdgeBank"
   ]
  },
  {
   "cell_type": "code",
   "execution_count": null,
   "id": "9ea998fc",
   "metadata": {},
   "outputs": [],
   "source": [
    "print('Node shuffling')\n",
    "ro_shuffling_avgpr = train_roland(snapshots_t, hidden_conv1, hidden_conv2, update='mlp', shuffle_node_features=True)"
   ]
  },
  {
   "cell_type": "code",
   "execution_count": null,
   "id": "721e577f",
   "metadata": {},
   "outputs": [],
   "source": [
    "print('T3MLP')\n",
    "ro_mlp_avgpr = train_mlp(snapshots_t, hidden_conv1, hidden_conv2, update='mlp')"
   ]
  },
  {
   "cell_type": "code",
   "execution_count": null,
   "id": "91646d83",
   "metadata": {},
   "outputs": [],
   "source": [
    "print('EdgeBank')\n",
    "ro_edgebank_avgpr = edge_bank(snapshots_t)"
   ]
  },
  {
   "cell_type": "markdown",
   "id": "3b4cbfb5",
   "metadata": {},
   "source": [
    "### Random Features"
   ]
  },
  {
   "cell_type": "code",
   "execution_count": null,
   "id": "bb1b37eb",
   "metadata": {},
   "outputs": [],
   "source": [
    "ro_constant_avgpr = train_roland(snapshots_c, hidden_conv1, hidden_conv2, update='mlp') #no-features\n",
    "ro_randomf_avgpr = train_roland(snapshots_ts, hidden_conv1, hidden_conv2, update='mlp') #random_features"
   ]
  }
 ],
 "metadata": {
  "kernelspec": {
   "display_name": "Python 3 (ipykernel)",
   "language": "python",
   "name": "python3"
  },
  "language_info": {
   "codemirror_mode": {
    "name": "ipython",
    "version": 3
   },
   "file_extension": ".py",
   "mimetype": "text/x-python",
   "name": "python",
   "nbconvert_exporter": "python",
   "pygments_lexer": "ipython3",
   "version": "3.9.7"
  }
 },
 "nbformat": 4,
 "nbformat_minor": 5
}
